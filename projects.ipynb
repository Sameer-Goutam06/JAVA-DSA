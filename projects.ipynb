{
 "cells": [
  {
   "cell_type": "code",
   "execution_count": 2,
   "metadata": {},
   "outputs": [],
   "source": [
    "# Importing necessary libraries\n",
    "import numpy as np\n",
    "import pandas as pd\n",
    "from sklearn.model_selection import train_test_split\n",
    "from sklearn.ensemble import RandomForestClassifier\n",
    "from sklearn.metrics import accuracy_score"
   ]
  },
  {
   "cell_type": "code",
   "execution_count": 4,
   "metadata": {},
   "outputs": [
    {
     "name": "stdout",
     "output_type": "stream",
     "text": [
      "Dataset Columns: Index(['temperature', 'humidity', 'rainfall', 'ph', 'disease'], dtype='object')\n",
      "Accuracy: 1.0\n",
      "Predicted disease:  Yellow Spot\n"
     ]
    },
    {
     "name": "stderr",
     "output_type": "stream",
     "text": [
      "C:\\Users\\samee\\AppData\\Local\\Packages\\PythonSoftwareFoundation.Python.3.12_qbz5n2kfra8p0\\LocalCache\\local-packages\\Python312\\site-packages\\sklearn\\base.py:493: UserWarning: X does not have valid feature names, but RandomForestClassifier was fitted with feature names\n",
      "  warnings.warn(\n"
     ]
    }
   ],
   "source": [
    "# Load the dataset\n",
    "try:\n",
    "    dataset = pd.read_csv('crop_disease_dataset.csv')\n",
    "    # Strip any extra spaces in column headers\n",
    "    dataset.columns = dataset.columns.str.strip()\n",
    "except FileNotFoundError:\n",
    "    raise FileNotFoundError(\"The file 'crop_disease_dataset.csv' was not found. Please ensure it is in the correct directory.\")\n",
    "\n",
    "# Verify dataset columns\n",
    "print(\"Dataset Columns:\", dataset.columns)\n",
    "if 'disease' not in dataset.columns:\n",
    "    raise ValueError(\"The dataset does not contain a 'disease' column. Please check the column headers.\")\n",
    "\n",
    "# Data preprocessing\n",
    "X = dataset.drop('disease', axis=1)  # Features\n",
    "y = dataset['disease']  # Target variable\n",
    "\n",
    "# Splitting the dataset into the Training set and Testing set\n",
    "X_train, X_test, y_train, y_test = train_test_split(X, y, test_size=0.2, random_state=42)\n",
    "\n",
    "# Training the Random Forest classifier\n",
    "clf = RandomForestClassifier(n_estimators=100, random_state=42)\n",
    "clf.fit(X_train, y_train)\n",
    "\n",
    "# Predicting the Test set results\n",
    "y_pred = clf.predict(X_test)\n",
    "\n",
    "# Evaluating the model\n",
    "accuracy = accuracy_score(y_test, y_pred)\n",
    "print(\"Accuracy:\", accuracy)\n",
    "\n",
    "# Example usage\n",
    "# Define the feature values for a new sample\n",
    "# Ensure the new sample matches the feature count\n",
    "new_sample = np.array([[26, 78, 210, 6.7]])  # Example feature values\n",
    "\n",
    "# Check input dimensions\n",
    "if new_sample.shape[1] != X.shape[1]:\n",
    "    raise ValueError(f\"The new sample must have {X.shape[1]} features, but got {new_sample.shape[1]}.\")\n",
    "\n",
    "# Make prediction\n",
    "prediction = clf.predict(new_sample)\n",
    "print(\"Predicted disease:\", prediction[0])"
   ]
  }
 ],
 "metadata": {
  "kernelspec": {
   "display_name": "Python 3",
   "language": "python",
   "name": "python3"
  },
  "language_info": {
   "codemirror_mode": {
    "name": "ipython",
    "version": 3
   },
   "file_extension": ".py",
   "mimetype": "text/x-python",
   "name": "python",
   "nbconvert_exporter": "python",
   "pygments_lexer": "ipython3",
   "version": "3.12.7"
  }
 },
 "nbformat": 4,
 "nbformat_minor": 2
}
